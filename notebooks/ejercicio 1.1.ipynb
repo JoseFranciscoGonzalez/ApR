{
 "cells": [
  {
   "cell_type": "markdown",
   "metadata": {},
   "source": [
    "### Aprendizaje por Refuerzo - Ejercicio 1.2\n",
    "#### Facultad de Ingeniería - Universidad de Buenos Aires\n",
    "#### 1er Cuatrimestre - 2020\n",
    "#### José Francisco González"
   ]
  },
  {
   "cell_type": "markdown",
   "metadata": {},
   "source": []
  },
  {
   "cell_type": "code",
   "execution_count": 80,
   "metadata": {},
   "outputs": [],
   "source": [
    "# Bibliotecas necesarias\n",
    "import random as rd\n",
    "import numpy as np\n",
    "import statistics as st"
   ]
  },
  {
   "cell_type": "code",
   "execution_count": 183,
   "metadata": {},
   "outputs": [],
   "source": [
    "# Estados de la cadena\n",
    "states = [1, 2, 3]\n",
    "\n",
    "# Matriz de transicón\n",
    "transition = np.array(\n",
    "      #1     #2     #3 \n",
    "    [[1.0/2, 1.0/3, 1.0/6 ],  #1\n",
    "     [3.0/4, 0    , 1.0/4],  #2\n",
    "     [0    , 1.0    , 0     ],] #3\n",
    ")"
   ]
  },
  {
   "cell_type": "code",
   "execution_count": 233,
   "metadata": {},
   "outputs": [
    {
     "name": "stdout",
     "output_type": "stream",
     "text": [
      "([2, 1], 1)\n"
     ]
    }
   ],
   "source": [
    "# Simula una historia de largo n\n",
    "def run(n, state):\n",
    "    episode = []\n",
    "    reward = 0\n",
    "    # Itera n veces\n",
    "    i = 0\n",
    "    while i < n:\n",
    "        next_state = np.random.choice([1,2,3], 1, False, transition[state-1,:])\n",
    "        episode.append(next_state[0])\n",
    "        \n",
    "        i = i + 1 \n",
    "        \n",
    "        if next_state == 1:\n",
    "            reward = reward -2\n",
    "        elif next_state == 2:\n",
    "            reward = reward +3\n",
    "        elif next_state == 3:\n",
    "            reward = reward +5\n",
    "            \n",
    "        state = next_state[0]\n",
    "        \n",
    "    return episode, reward\n",
    "\n",
    "print(run(2,1))"
   ]
  },
  {
   "cell_type": "code",
   "execution_count": 238,
   "metadata": {},
   "outputs": [],
   "source": [
    "def simulation(n, state, repeat):\n",
    "    rewards = []\n",
    "    episodes = []\n",
    "    for i in range(1,repeat):\n",
    "        episode, reward = run(n,state)\n",
    "        episodes.append(episode)\n",
    "        rewards.append(reward)\n",
    "    # Devuelve la media muestral\n",
    "    print(st.mean(rewards))"
   ]
  },
  {
   "cell_type": "code",
   "execution_count": null,
   "metadata": {},
   "outputs": [],
   "source": []
  },
  {
   "cell_type": "code",
   "execution_count": 239,
   "metadata": {},
   "outputs": [
    {
     "name": "stdout",
     "output_type": "stream",
     "text": [
      "1.6427642764276427\n"
     ]
    }
   ],
   "source": [
    "simulation(2 , 1, 10000)"
   ]
  },
  {
   "cell_type": "code",
   "execution_count": null,
   "metadata": {},
   "outputs": [],
   "source": []
  },
  {
   "cell_type": "code",
   "execution_count": null,
   "metadata": {},
   "outputs": [],
   "source": []
  }
 ],
 "metadata": {
  "kernelspec": {
   "display_name": "Python 3",
   "language": "python",
   "name": "python3"
  },
  "language_info": {
   "codemirror_mode": {
    "name": "ipython",
    "version": 3
   },
   "file_extension": ".py",
   "mimetype": "text/x-python",
   "name": "python",
   "nbconvert_exporter": "python",
   "pygments_lexer": "ipython3",
   "version": "3.6.8"
  }
 },
 "nbformat": 4,
 "nbformat_minor": 4
}
